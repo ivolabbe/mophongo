{
 "cells": [
  {
   "cell_type": "markdown",
   "id": "632f64f5",
   "metadata": {},
   "source": [
    "## Template and PSF downsampling demo\n",
    "This notebook demonstrates centroid-preserving downsampling."
   ]
  },
  {
   "cell_type": "code",
   "execution_count": null,
   "id": "d74de3a2",
   "metadata": {},
   "outputs": [],
   "source": [
    "import numpy as np\n",
    "import matplotlib.pyplot as plt\n",
    "from mophongo.templates import Template\n",
    "from mophongo.utils import downsample_psf\n",
    "\n",
    "# construct 9x9 template with center at (4,4)\n",
    "h = w = 9\n",
    "data = np.zeros((h,w))\n",
    "data[4,4] = 1\n",
    "t = Template.__new__(Template)\n",
    "t.data = data\n",
    "t.bbox_original = ((0, h-1), (0, w-1))\n",
    "t.slices_original = (slice(0,h), slice(0,w))\n",
    "t.slices_cutout = (slice(0,h), slice(0,w))\n",
    "t.input_position_cutout = ((h-1)/2,(w-1)/2)\n",
    "t.input_position_original = ((h-1)/2,(w-1)/2)\n",
    "\n",
    "# downsample template and PSF by k=2\n",
    "k=2\n",
    "t_lo = t.downsample(k)\n",
    "psf = np.exp(-((np.arange(9)-4)**2)[:,None] - ((np.arange(9)-4)**2)[None,:])\n",
    "psf /= psf.sum()\n",
    "psf_lo = downsample_psf(psf, k)\n",
    "\n",
    "fig, ax = plt.subplots(2,2, figsize=(6,6))\n",
    "ax[0,0].imshow(t.data, origin='lower'); ax[0,0].set_title('Template hi')\n",
    "ax[0,1].imshow(t_lo.data, origin='lower'); ax[0,1].set_title('Template low')\n",
    "ax[1,0].imshow(psf, origin='lower'); ax[1,0].set_title('PSF hi')\n",
    "ax[1,1].imshow(psf_lo, origin='lower'); ax[1,1].set_title('PSF low')\n",
    "plt.show()"
   ]
  }
 ],
 "metadata": {},
 "nbformat": 4,
 "nbformat_minor": 5
}
