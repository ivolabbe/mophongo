{
 "cells": [
  {
   "cell_type": "markdown",
   "id": "5641e5f1",
   "metadata": {},
   "source": [
    "# Generating PSFs\n",
    "\n",
    "This notebook demonstrates how to build a drizzle PSF using sample data included with *Mophongo*."
   ]
  },
  {
   "cell_type": "code",
   "execution_count": null,
   "id": "e5206491",
   "metadata": {},
   "outputs": [],
   "source": [
    "import numpy as np\n",
    "import matplotlib.pyplot as plt\n",
    "from pathlib import Path\n",
    "import importlib\n",
    "\n",
    "from mophongo.psf import DrizzlePSF, PSF\n",
    "from mophongo.templates import _convolve2d\n",
    "from scipy.ndimage import shift\n",
    "import mophongo.psf\n",
    "importlib.reload(mophongo.psf)\n"
   ]
  },
  {
   "cell_type": "markdown",
   "id": "a1de6977",
   "metadata": {},
   "source": [
    "## Load the drizzle image and WCS info"
   ]
  },
  {
   "cell_type": "code",
   "execution_count": null,
   "id": "40a0b7ba",
   "metadata": {},
   "outputs": [],
   "source": [
    "filt = 'F770W'\n",
    "data_dir = Path('data')\n",
    "drz_file = data_dir / f'uds-test-{filt.lower()}_sci.fits'\n",
    "csv_file = data_dir / f'uds-test-{filt.lower()}_wcs.csv'\n",
    "\n",
    "psf_dir = Path('/Users/ivo/Astro/PROJECTS/JWST/PSF/')\n",
    "filter_regex = f'STDPSF_MIRI_{filt}_EXTENDED'\n",
    "\n",
    "dpsf = DrizzlePSF(driz_image=str(drz_file), csv_file=str(csv_file))\n",
    "\n",
    "if psf_dir.exists():\n",
    "    dpsf.epsf_obj.load_jwst_stdpsf(local_dir=str(psf_dir), filter_pattern=filter_regex, verbose=True)\n",
    "else:\n",
    "    print('PSF data not available; skipping load')\n"
   ]
  },
  {
   "cell_type": "markdown",
   "id": "90c4c66c",
   "metadata": {},
   "source": [
    "## Extract a PSF at a chosen position"
   ]
  },
  {
   "cell_type": "code",
   "execution_count": null,
   "id": "6f79dfeb",
   "metadata": {},
   "outputs": [],
   "source": [
    "ra, dec = 34.295937, -5.1294261\n",
    "size = 201\n",
    "\n",
    "cutout_reg = dpsf.get_driz_cutout(ra, dec, size=15, verbose=True, recenter=True)\n",
    "pos_drz, _, _ = dpsf.register(cutout_reg, filter_regex, verbose=True)\n",
    "\n",
    "cutout = dpsf.get_driz_cutout(ra, dec, size=size, verbose=True, recenter=True)\n",
    "psf_hdu = dpsf.get_psf(\n",
    "    ra=pos_drz[0], dec=pos_drz[1],\n",
    "    filter=filter_regex, wcs_slice=cutout.wcs,\n",
    "    kernel=dpsf.driz_header['KERNEL'], pixfrac=dpsf.driz_header['PIXFRAC'],\n",
    ")\n",
    "psf_data = psf_hdu[1].data\n",
    "cutout_data = cutout.data\n"
   ]
  },
  {
   "cell_type": "markdown",
   "id": "4b322497",
   "metadata": {},
   "source": [
    "## Match the PSF to the image and compare"
   ]
  },
  {
   "cell_type": "code",
   "execution_count": null,
   "id": "738d2bc5",
   "metadata": {},
   "outputs": [],
   "source": [
    "Rnorm_as = 1.5\n",
    "mask = np.hypot(*np.indices(cutout_data.shape) - cutout_data.shape[0]//2) < (Rnorm_as / dpsf.driz_pscale)\n",
    "scl = (cutout_data * psf_data)[mask].sum() / (psf_data[mask]**2).sum()\n",
    "\n",
    "basis = PSF.gaussian_basis([1.0, 2.0, 3.0, 4.0, 6.0], cutout_data.shape[0])\n",
    "psfd = PSF.from_array(psf_data)\n",
    "kernel = psfd.matching_kernel_basis(cutout_data, basis)\n",
    "conv = _convolve2d(psf_data, kernel)\n",
    "\n",
    "fig, axes = plt.subplots(2, 3, figsize=(12, 8))\n",
    "offset = 2e-5\n",
    "kws = dict(vmin=-5.3, vmax=-1.5, cmap='bone_r')\n",
    "axes[0].imshow(np.log10(cutout_data/scl + offset), **kws)\n",
    "axes[1].imshow(np.log10(psf_data + offset), **kws)\n",
    "axes[2].imshow(np.log10(cutout_data/scl - psf_data + offset), **kws)\n",
    "axes[3].imshow(np.log10(cutout_data/scl - conv + offset), **kws)\n",
    "axes[4].imshow(np.log10(kernel + offset), **kws)\n",
    "plt.show()\n"
   ]
  }
 ],
 "metadata": {},
 "nbformat": 4,
 "nbformat_minor": 5
}
