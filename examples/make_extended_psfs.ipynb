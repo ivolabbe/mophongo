{
 "cells": [
  {
   "cell_type": "markdown",
   "id": "18634d09",
   "metadata": {},
   "source": [
    "# Extending JWST PSFs\n",
    "\n",
    "This tutorial demonstrates how to build extended JWST ePSF grids using `mophongo.jwst_psf`. It converts a directory of standard PSF grids into extended versions suitable for modelling wide halos."
   ]
  },
  {
   "cell_type": "code",
   "execution_count": null,
   "id": "1c945528",
   "metadata": {},
   "outputs": [],
   "source": [
    "from pathlib import Path\n",
    "import os\n",
    "import logging\n",
    "from photutils.psf import STDPSFGrid\n",
    "from mophongo import jwst_psf\n",
    "\n",
    "logging.basicConfig(level=logging.INFO)"
   ]
  },
  {
   "cell_type": "markdown",
   "id": "e2384464",
   "metadata": {},
   "source": [
    "Specify the directory containing the JWST STDPSF `*.fits` files. The extended PSFs will be written to a sibling `EXTENDED` directory:"
   ]
  },
  {
   "cell_type": "code",
   "execution_count": null,
   "id": "4fd2ea2c",
   "metadata": {},
   "outputs": [],
   "source": [
    "psf_dir = Path('/Users/ivo/Astro/PROJECTS/JWST/PSF/PSF/JWST/NIRCam')"
   ]
  },
  {
   "cell_type": "markdown",
   "id": "e11ba392",
   "metadata": {},
   "source": [
    "Iterate over all PSF files and build extended PSF grids using `jwst_psf.make_extended_grid`. Existing outputs are skipped."
   ]
  },
  {
   "cell_type": "code",
   "execution_count": null,
   "id": "bad5915d",
   "metadata": {},
   "outputs": [],
   "source": [
    "outdir = psf_dir.parent / 'EXTENDED'\n",
    "for f in psf_dir.rglob('*.fits'):\n",
    "    outname = outdir / f.name.replace('.fits', '_EXTENDED.fits')\n",
    "    if outname.exists() or 'EXTENDED' in f.name or 'NRC' not in f.name:\n",
    "        continue\n",
    "    epsf = STDPSFGrid(str(f))\n",
    "    epsf_ext = jwst_psf.make_extended_grid(epsf, Rmax=2.0, Rtaper=0.2, verbose=True)\n",
    "    os.makedirs(outdir, exist_ok=True)\n",
    "    jwst_psf.write_stdpsf(outname, epsf_ext, overwrite=True, verbose=True)"
   ]
  },
  {
   "cell_type": "markdown",
   "id": "1da6e968",
   "metadata": {},
   "source": [
    "After running the above cell the extended PSFs are saved next to the originals in the `EXTENDED` folder."
   ]
  }
 ],
 "metadata": {},
 "nbformat": 4,
 "nbformat_minor": 5
}
