{
 "cells": [
  {
   "cell_type": "markdown",
   "id": "title",
   "metadata": {},
   "source": [
    "# PSF Matching Kernels"
   ]
  },
  {
   "cell_type": "code",
   "execution_count": null,
   "id": "imports",
   "metadata": {},
   "outputs": [],
   "source": [
    "import numpy as np\n",
    "import matplotlib.pyplot as plt\n",
    "from pathlib import Path\n",
    "import importlib\n",
    "\n",
    "from mophongo.psf_map import PSFRegionMap\n",
    "import mophongo.psf\n",
    "importlib.reload(mophongo.psf)\n",
    "from mophongo.psf import DrizzlePSF, PSF\n",
    "from mophongo.kernels import KernelLookup\n",
    "from astropy.io import fits\n"
   ]
  },
  {
   "cell_type": "markdown",
   "id": "region-map",
   "metadata": {},
   "source": [
    "## Build the PSF region map"
   ]
  },
  {
   "cell_type": "code",
   "execution_count": null,
   "id": "build-map",
   "metadata": {},
   "outputs": [],
   "source": [
    "field = 'uds-test'\n",
    "filt = 'F444W'\n",
    "data_dir = Path('data')\n",
    "drz_file = data_dir / f'{field}-{filt.lower()}_sci.fits'\n",
    "csv_file = data_dir / f'{field}-{filt.lower()}_wcs.csv'\n",
    "\n",
    "dpsf = DrizzlePSF(driz_image=str(drz_file), csv_file=str(csv_file))\n",
    "footprints = {k: v for i, (k, v) in enumerate(dpsf.footprint.items()) if i < 10}\n",
    "prm = PSFRegionMap.from_footprints(footprints, buffer_tol=1.0/3600, area_factor=300)\n",
    "\n",
    "fig, ax = plt.subplots()\n",
    "prm.regions.plot(column='psf_key', ax=ax, edgecolor='k', cmap='tab20')\n",
    "ax.set_xlabel('RA'); ax.set_ylabel('Dec')\n"
   ]
  },
  {
   "cell_type": "markdown",
   "id": "psf-cubes",
   "metadata": {},
   "source": [
    "## Create PSF cubes for both filters"
   ]
  },
  {
   "cell_type": "code",
   "execution_count": null,
   "id": "make-psf-cubes",
   "metadata": {},
   "outputs": [],
   "source": [
    "filters = ['F444W', 'F770W']\n",
    "psf_cubes = {}\n",
    "for filt in filters:\n",
    "    drz_file = data_dir / f'{field}-{filt.lower()}_sci.fits'\n",
    "    csv_file = data_dir / f'{field}-{filt.lower()}_wcs.csv'\n",
    "    dpsf = DrizzlePSF(driz_image=str(drz_file), csv_file=str(csv_file))\n",
    "    centroids = prm.regions.geometry.centroid\n",
    "    cube = []\n",
    "    for ra, dec in zip(centroids.x, centroids.y):\n",
    "        cube.append(dpsf.get_psf(ra, dec, filt))\n",
    "    cube = np.asarray(cube)\n",
    "    fits.writeto(data_dir / f'{field}_{filt.lower()}_psf.fits', cube, overwrite=True)\n",
    "    psf_cubes[filt] = cube\n"
   ]
  },
  {
   "cell_type": "markdown",
   "id": "build-kernels",
   "metadata": {},
   "source": [
    "## Compute matching kernels"
   ]
  },
  {
   "cell_type": "code",
   "execution_count": null,
   "id": "kernel-step",
   "metadata": {},
   "outputs": [],
   "source": [
    "cube_444 = psf_cubes['F444W']\n",
    "cube_770 = psf_cubes['F770W']\n",
    "kernels = []\n",
    "for p444, p770 in zip(cube_444, cube_770):\n",
    "    ker = PSF.from_array(p444).matching_kernel(PSF.from_array(p770))\n",
    "    kernels.append(ker)\n",
    "kernels = np.asarray(kernels)\n",
    "fits.writeto(data_dir / f'{field}_kernel_f444w_to_f770w.fits', kernels, overwrite=True)\n"
   ]
  },
  {
   "cell_type": "markdown",
   "id": "recall",
   "metadata": {},
   "source": [
    "## Fast kernel recall"
   ]
  },
  {
   "cell_type": "code",
   "execution_count": null,
   "id": "lookup",
   "metadata": {},
   "outputs": [],
   "source": [
    "i = 1\n",
    "ra, dec = prm.regions.loc[i].geometry.centroid.xy\n",
    "psf_key = prm.regions.loc[i].psf_key\n",
    "print(psf_key,ra[0],dec[0])\n",
    "prm.lookup_key(ra[0], dec[0])\n",
    "\n",
    "# psf_key is an index into the kernels array and matches the order of the regions\n",
    "kernel_at_radec = kernels[psf_key]\n",
    "\n",
    "\n"
   ]
  }
 ],
 "metadata": {
  "language_info": {
   "name": "python"
  }
 },
 "nbformat": 4,
 "nbformat_minor": 5
}
