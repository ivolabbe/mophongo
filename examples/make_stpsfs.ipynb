{
 "cells": [
  {
   "cell_type": "markdown",
   "id": "18634d09",
   "metadata": {},
   "source": [
    "# Extending JWST PSFs\n",
    "\n",
    "This tutorial demonstrates how to build extended JWST ePSF grids using `mophongo.jwst_psf`. It converts a directory of standard PSF grids into extended versions suitable for modelling wide halos."
   ]
  },
  {
   "cell_type": "code",
   "execution_count": null,
   "id": "1c945528",
   "metadata": {},
   "outputs": [
    {
     "name": "stdout",
     "output_type": "stream",
     "text": [
      "\n",
      "\n",
      "The following task in the stsci.skypac package can be run with TEAL:\n",
      "                                    skymatch                                    \n",
      "The following tasks in the drizzlepac package can be run with TEAL:\n",
      "    astrodrizzle       config_testbed      imagefindpars           mapreg       \n",
      "       photeq            pixreplace           pixtopix            pixtosky      \n",
      "  refimagefindpars       resetbits          runastrodriz          skytopix      \n",
      "     tweakback            tweakreg           updatenpol\n"
     ]
    }
   ],
   "source": [
    "from pathlib import Path\n",
    "import os\n",
    "import logging\n",
    "from photutils.psf import STDPSFGrid \n",
    "from mophongo import jwst_psf\n",
    "\n",
    "logging.basicConfig(level=logging.WARNING)"
   ]
  },
  {
   "cell_type": "markdown",
   "id": "e2384464",
   "metadata": {},
   "source": [
    "## create several ST / Webb PSFs for every detector listed \n",
    "\n",
    "* search wcs_csv rate files produced by grizli to see which detectors\n",
    "* do load_wss_opd_by_date closest to modal observation data of the mosaic \n",
    "* produce 4x oversampled (OS4) and detector sampled (DET) \n",
    "* produce single PSFs (center of detector) and square sampled grids (3x3 in 770, 5x5 in 444)\n",
    "\n"
   ]
  },
  {
   "cell_type": "code",
   "execution_count": null,
   "id": "bad5915d",
   "metadata": {},
   "outputs": [],
   "source": [
    "from pathlib import Path\n",
    "from mophongo.jwst_psf  import psf_grid_from_csv\n",
    "\n",
    "data_dir = Path('../data')\n",
    "psf_dir = data_dir / 'PSF'\n",
    "filters =  [('f115w', 2.0, [1,25]), \n",
    "            ('f444w', 4.0, [1,25]), \n",
    "            ('f770w', 8.0, [1,9])]\n",
    "\n",
    "pf = 'UDS'\n",
    "for filt, fov, ngrid in filters:\n",
    "    csv = data_dir / f'uds-test-{filt}_wcs.csv'\n",
    "    for size in ngrid:\n",
    "        print(csv,filt, fov, size)\n",
    "        psf_grid_from_csv(csv, fov_arcsec=fov, num_psfs=size, prefix=pf, outdir=psf_dir,  \n",
    "                          postfix=f'DET_GRID{size}', use_detsampled_psf=True, save=True)\n",
    "        psf_grid_from_csv(csv, fov_arcsec=fov, num_psfs=size, prefix=pf, outdir=psf_dir, \n",
    "                          postfix=f'OS4_GRID{size}',save=True)\n",
    "    "
   ]
  },
  {
   "cell_type": "markdown",
   "id": "1da6e968",
   "metadata": {},
   "source": [
    "### Oversample DETECTOR sampled PSFs \n",
    "\n",
    "So that it remains compatible with DrizzlePSF which has x4 oversampling hard coded"
   ]
  },
  {
   "cell_type": "code",
   "execution_count": null,
   "id": "4735dbf8",
   "metadata": {},
   "outputs": [
    {
     "name": "stdout",
     "output_type": "stream",
     "text": [
      "../data/uds-test-f115w_wcs.csv f115w 2.0 1\n",
      "OUTFILE: UDS_NRCA1_F115W_DET_GRID1.fits\n",
      "Skipping UDS_NRCA1_F115W_DET_GRID1.fits (exists, overwrite=False)\n",
      "OUTFILE: UDS_NRCA2_F115W_DET_GRID1.fits\n",
      "Skipping UDS_NRCA2_F115W_DET_GRID1.fits (exists, overwrite=False)\n",
      "OUTFILE: UDS_NRCA3_F115W_DET_GRID1.fits\n",
      "Skipping UDS_NRCA3_F115W_DET_GRID1.fits (exists, overwrite=False)\n",
      "OUTFILE: UDS_NRCA4_F115W_DET_GRID1.fits\n",
      "Skipping UDS_NRCA4_F115W_DET_GRID1.fits (exists, overwrite=False)\n",
      "OUTFILE: UDS_NRCB1_F115W_DET_GRID1.fits\n",
      "Skipping UDS_NRCB1_F115W_DET_GRID1.fits (exists, overwrite=False)\n",
      "OUTFILE: UDS_NRCB2_F115W_DET_GRID1.fits\n",
      "Skipping UDS_NRCB2_F115W_DET_GRID1.fits (exists, overwrite=False)\n",
      "OUTFILE: UDS_NRCB3_F115W_DET_GRID1.fits\n",
      "Skipping UDS_NRCB3_F115W_DET_GRID1.fits (exists, overwrite=False)\n",
      "OUTFILE: UDS_NRCB4_F115W_DET_GRID1.fits\n",
      "Skipping UDS_NRCB4_F115W_DET_GRID1.fits (exists, overwrite=False)\n",
      "OUTFILE: UDS_NRCA1_F115W_OS4_GRID1.fits\n",
      "Skipping UDS_NRCA1_F115W_OS4_GRID1.fits (exists, overwrite=False)\n",
      "OUTFILE: UDS_NRCA2_F115W_OS4_GRID1.fits\n",
      "Skipping UDS_NRCA2_F115W_OS4_GRID1.fits (exists, overwrite=False)\n",
      "OUTFILE: UDS_NRCA3_F115W_OS4_GRID1.fits\n",
      "Skipping UDS_NRCA3_F115W_OS4_GRID1.fits (exists, overwrite=False)\n",
      "OUTFILE: UDS_NRCA4_F115W_OS4_GRID1.fits\n",
      "Skipping UDS_NRCA4_F115W_OS4_GRID1.fits (exists, overwrite=False)\n",
      "OUTFILE: UDS_NRCB1_F115W_OS4_GRID1.fits\n",
      "Skipping UDS_NRCB1_F115W_OS4_GRID1.fits (exists, overwrite=False)\n",
      "OUTFILE: UDS_NRCB2_F115W_OS4_GRID1.fits\n",
      "Skipping UDS_NRCB2_F115W_OS4_GRID1.fits (exists, overwrite=False)\n",
      "OUTFILE: UDS_NRCB3_F115W_OS4_GRID1.fits\n",
      "Skipping UDS_NRCB3_F115W_OS4_GRID1.fits (exists, overwrite=False)\n",
      "OUTFILE: UDS_NRCB4_F115W_OS4_GRID1.fits\n",
      "Skipping UDS_NRCB4_F115W_OS4_GRID1.fits (exists, overwrite=False)\n",
      "../data/uds-test-f115w_wcs.csv f115w 2.0 25\n",
      "OUTFILE: UDS_NRCA1_F115W_DET_GRID25.fits\n",
      "\n",
      "MAST OPD query around UTC: 59967.157610238\n",
      "                        MJD: 59967.157610238\n",
      "\n",
      "OPD immediately preceding the given datetime:\n",
      "\tURI:\t mast:JWST/product/R2023012202-NRCA3_FP1-1.fits\n",
      "\tDate (MJD):\t 59965.8570\n",
      "\tDelta time:\t -1.3006 days\n",
      "\n",
      "OPD immediately following the given datetime:\n",
      "\tURI:\t mast:JWST/product/R2023012303-NRCA3_FP1-1.fits\n",
      "\tDate (MJD):\t 59967.6511\n",
      "\tDelta time:\t 0.4935 days\n",
      "User requested choosing OPD time closest in time to 59967.157610238, which is R2023012303-NRCA3_FP1-1.fits, delta time 0.493 days\n",
      "Importing and format-converting OPD from /Users/ivo/Astro/PROJECTS/JWST/PSF/stpsf-data/MAST_JWST_WSS_OPDs/R2023012303-NRCA3_FP1-1.fits\n",
      "Backing out SI WFE and OTE field dependence at the WF sensing field point (NRCA3_FP1)\n"
     ]
    },
    {
     "name": "stderr",
     "output_type": "stream",
     "text": [
      "WARNING:py.warnings:/Users/ivo/Astro/PROJECTS/MOPHONGO/mophongo/mophongo/.venv/lib/python3.12/site-packages/astropy/io/fits/card.py:1036: VerifyWarning: Card is too long, comment will be truncated.\n",
      "  warnings.warn(\n",
      "\n"
     ]
    },
    {
     "name": "stdout",
     "output_type": "stream",
     "text": [
      "Wrote 25 PSFs ➜ ../data/PSF/UDS_NRCA1_F115W_DET_GRID25.fits\n",
      "OUTFILE: UDS_NRCA2_F115W_DET_GRID25.fits\n",
      "\n",
      "MAST OPD query around UTC: 59967.157610238\n",
      "                        MJD: 59967.157610238\n",
      "\n",
      "OPD immediately preceding the given datetime:\n",
      "\tURI:\t mast:JWST/product/R2023012202-NRCA3_FP1-1.fits\n",
      "\tDate (MJD):\t 59965.8570\n",
      "\tDelta time:\t -1.3006 days\n",
      "\n",
      "OPD immediately following the given datetime:\n",
      "\tURI:\t mast:JWST/product/R2023012303-NRCA3_FP1-1.fits\n",
      "\tDate (MJD):\t 59967.6511\n",
      "\tDelta time:\t 0.4935 days\n",
      "User requested choosing OPD time closest in time to 59967.157610238, which is R2023012303-NRCA3_FP1-1.fits, delta time 0.493 days\n",
      "Importing and format-converting OPD from /Users/ivo/Astro/PROJECTS/JWST/PSF/stpsf-data/MAST_JWST_WSS_OPDs/R2023012303-NRCA3_FP1-1.fits\n",
      "Backing out SI WFE and OTE field dependence at the WF sensing field point (NRCA3_FP1)\n"
     ]
    },
    {
     "name": "stderr",
     "output_type": "stream",
     "text": [
      "WARNING:py.warnings:/Users/ivo/Astro/PROJECTS/MOPHONGO/mophongo/mophongo/.venv/lib/python3.12/site-packages/astropy/io/fits/card.py:1036: VerifyWarning: Card is too long, comment will be truncated.\n",
      "  warnings.warn(\n",
      "\n"
     ]
    },
    {
     "name": "stdout",
     "output_type": "stream",
     "text": [
      "Wrote 25 PSFs ➜ ../data/PSF/UDS_NRCA2_F115W_DET_GRID25.fits\n",
      "OUTFILE: UDS_NRCA3_F115W_DET_GRID25.fits\n",
      "\n",
      "MAST OPD query around UTC: 59967.157610238\n",
      "                        MJD: 59967.157610238\n",
      "\n",
      "OPD immediately preceding the given datetime:\n",
      "\tURI:\t mast:JWST/product/R2023012202-NRCA3_FP1-1.fits\n",
      "\tDate (MJD):\t 59965.8570\n",
      "\tDelta time:\t -1.3006 days\n",
      "\n",
      "OPD immediately following the given datetime:\n",
      "\tURI:\t mast:JWST/product/R2023012303-NRCA3_FP1-1.fits\n",
      "\tDate (MJD):\t 59967.6511\n",
      "\tDelta time:\t 0.4935 days\n",
      "User requested choosing OPD time closest in time to 59967.157610238, which is R2023012303-NRCA3_FP1-1.fits, delta time 0.493 days\n",
      "Importing and format-converting OPD from /Users/ivo/Astro/PROJECTS/JWST/PSF/stpsf-data/MAST_JWST_WSS_OPDs/R2023012303-NRCA3_FP1-1.fits\n",
      "Backing out SI WFE and OTE field dependence at the WF sensing field point (NRCA3_FP1)\n"
     ]
    },
    {
     "name": "stderr",
     "output_type": "stream",
     "text": [
      "WARNING:py.warnings:/Users/ivo/Astro/PROJECTS/MOPHONGO/mophongo/mophongo/.venv/lib/python3.12/site-packages/astropy/io/fits/card.py:1036: VerifyWarning: Card is too long, comment will be truncated.\n",
      "  warnings.warn(\n",
      "\n"
     ]
    },
    {
     "name": "stdout",
     "output_type": "stream",
     "text": [
      "Wrote 25 PSFs ➜ ../data/PSF/UDS_NRCA3_F115W_DET_GRID25.fits\n",
      "OUTFILE: UDS_NRCA4_F115W_DET_GRID25.fits\n",
      "\n",
      "MAST OPD query around UTC: 59967.157610238\n",
      "                        MJD: 59967.157610238\n",
      "\n",
      "OPD immediately preceding the given datetime:\n",
      "\tURI:\t mast:JWST/product/R2023012202-NRCA3_FP1-1.fits\n",
      "\tDate (MJD):\t 59965.8570\n",
      "\tDelta time:\t -1.3006 days\n",
      "\n",
      "OPD immediately following the given datetime:\n",
      "\tURI:\t mast:JWST/product/R2023012303-NRCA3_FP1-1.fits\n",
      "\tDate (MJD):\t 59967.6511\n",
      "\tDelta time:\t 0.4935 days\n",
      "User requested choosing OPD time closest in time to 59967.157610238, which is R2023012303-NRCA3_FP1-1.fits, delta time 0.493 days\n",
      "Importing and format-converting OPD from /Users/ivo/Astro/PROJECTS/JWST/PSF/stpsf-data/MAST_JWST_WSS_OPDs/R2023012303-NRCA3_FP1-1.fits\n",
      "Backing out SI WFE and OTE field dependence at the WF sensing field point (NRCA3_FP1)\n"
     ]
    },
    {
     "name": "stderr",
     "output_type": "stream",
     "text": [
      "WARNING:py.warnings:/Users/ivo/Astro/PROJECTS/MOPHONGO/mophongo/mophongo/.venv/lib/python3.12/site-packages/astropy/io/fits/card.py:1036: VerifyWarning: Card is too long, comment will be truncated.\n",
      "  warnings.warn(\n",
      "\n"
     ]
    },
    {
     "name": "stdout",
     "output_type": "stream",
     "text": [
      "Wrote 25 PSFs ➜ ../data/PSF/UDS_NRCA4_F115W_DET_GRID25.fits\n",
      "OUTFILE: UDS_NRCB1_F115W_DET_GRID25.fits\n",
      "\n",
      "MAST OPD query around UTC: 59967.157610238\n",
      "                        MJD: 59967.157610238\n",
      "\n",
      "OPD immediately preceding the given datetime:\n",
      "\tURI:\t mast:JWST/product/R2023012202-NRCA3_FP1-1.fits\n",
      "\tDate (MJD):\t 59965.8570\n",
      "\tDelta time:\t -1.3006 days\n",
      "\n",
      "OPD immediately following the given datetime:\n",
      "\tURI:\t mast:JWST/product/R2023012303-NRCA3_FP1-1.fits\n",
      "\tDate (MJD):\t 59967.6511\n",
      "\tDelta time:\t 0.4935 days\n",
      "User requested choosing OPD time closest in time to 59967.157610238, which is R2023012303-NRCA3_FP1-1.fits, delta time 0.493 days\n",
      "Importing and format-converting OPD from /Users/ivo/Astro/PROJECTS/JWST/PSF/stpsf-data/MAST_JWST_WSS_OPDs/R2023012303-NRCA3_FP1-1.fits\n",
      "Backing out SI WFE and OTE field dependence at the WF sensing field point (NRCA3_FP1)\n"
     ]
    },
    {
     "name": "stderr",
     "output_type": "stream",
     "text": [
      "WARNING:py.warnings:/Users/ivo/Astro/PROJECTS/MOPHONGO/mophongo/mophongo/.venv/lib/python3.12/site-packages/astropy/io/fits/card.py:1036: VerifyWarning: Card is too long, comment will be truncated.\n",
      "  warnings.warn(\n",
      "\n"
     ]
    },
    {
     "name": "stdout",
     "output_type": "stream",
     "text": [
      "Wrote 25 PSFs ➜ ../data/PSF/UDS_NRCB1_F115W_DET_GRID25.fits\n",
      "OUTFILE: UDS_NRCB2_F115W_DET_GRID25.fits\n",
      "\n",
      "MAST OPD query around UTC: 59967.157610238\n",
      "                        MJD: 59967.157610238\n",
      "\n",
      "OPD immediately preceding the given datetime:\n",
      "\tURI:\t mast:JWST/product/R2023012202-NRCA3_FP1-1.fits\n",
      "\tDate (MJD):\t 59965.8570\n",
      "\tDelta time:\t -1.3006 days\n",
      "\n",
      "OPD immediately following the given datetime:\n",
      "\tURI:\t mast:JWST/product/R2023012303-NRCA3_FP1-1.fits\n",
      "\tDate (MJD):\t 59967.6511\n",
      "\tDelta time:\t 0.4935 days\n",
      "User requested choosing OPD time closest in time to 59967.157610238, which is R2023012303-NRCA3_FP1-1.fits, delta time 0.493 days\n",
      "Importing and format-converting OPD from /Users/ivo/Astro/PROJECTS/JWST/PSF/stpsf-data/MAST_JWST_WSS_OPDs/R2023012303-NRCA3_FP1-1.fits\n",
      "Backing out SI WFE and OTE field dependence at the WF sensing field point (NRCA3_FP1)\n"
     ]
    },
    {
     "name": "stderr",
     "output_type": "stream",
     "text": [
      "WARNING:py.warnings:/Users/ivo/Astro/PROJECTS/MOPHONGO/mophongo/mophongo/.venv/lib/python3.12/site-packages/stpsf/opds.py:1759: UserWarning: For (V2,V3) = [-2.58746235 -9.2851593 ] arcmin, Field point -2.582628 arcmin, 1.4851592972196723 arcmin not within valid region for field dependence model of OTE WFE for NIRCam: -2.582628 arcmin-2.582628 arcmin, -1.539012 arcmin-1.539012 arcmin.  Clipping to closest available valid location, 0.0048343481327126625 arcmin away from the requested coordinates.\n",
      "  warnings.warn(warning_message)\n",
      "\n",
      "WARNING:py.warnings:/Users/ivo/Astro/PROJECTS/MOPHONGO/mophongo/mophongo/.venv/lib/python3.12/site-packages/astropy/io/fits/card.py:1036: VerifyWarning: Card is too long, comment will be truncated.\n",
      "  warnings.warn(\n",
      "\n"
     ]
    },
    {
     "name": "stdout",
     "output_type": "stream",
     "text": [
      "Wrote 25 PSFs ➜ ../data/PSF/UDS_NRCB2_F115W_DET_GRID25.fits\n",
      "OUTFILE: UDS_NRCB3_F115W_DET_GRID25.fits\n",
      "\n",
      "MAST OPD query around UTC: 59967.157610238\n",
      "                        MJD: 59967.157610238\n",
      "\n",
      "OPD immediately preceding the given datetime:\n",
      "\tURI:\t mast:JWST/product/R2023012202-NRCA3_FP1-1.fits\n",
      "\tDate (MJD):\t 59965.8570\n",
      "\tDelta time:\t -1.3006 days\n",
      "\n",
      "OPD immediately following the given datetime:\n",
      "\tURI:\t mast:JWST/product/R2023012303-NRCA3_FP1-1.fits\n",
      "\tDate (MJD):\t 59967.6511\n",
      "\tDelta time:\t 0.4935 days\n",
      "User requested choosing OPD time closest in time to 59967.157610238, which is R2023012303-NRCA3_FP1-1.fits, delta time 0.493 days\n",
      "Importing and format-converting OPD from /Users/ivo/Astro/PROJECTS/JWST/PSF/stpsf-data/MAST_JWST_WSS_OPDs/R2023012303-NRCA3_FP1-1.fits\n",
      "Backing out SI WFE and OTE field dependence at the WF sensing field point (NRCA3_FP1)\n"
     ]
    },
    {
     "name": "stderr",
     "output_type": "stream",
     "text": [
      "WARNING:py.warnings:/Users/ivo/Astro/PROJECTS/MOPHONGO/mophongo/mophongo/.venv/lib/python3.12/site-packages/astropy/io/fits/card.py:1036: VerifyWarning: Card is too long, comment will be truncated.\n",
      "  warnings.warn(\n",
      "\n"
     ]
    },
    {
     "name": "stdout",
     "output_type": "stream",
     "text": [
      "Wrote 25 PSFs ➜ ../data/PSF/UDS_NRCB3_F115W_DET_GRID25.fits\n",
      "OUTFILE: UDS_NRCB4_F115W_DET_GRID25.fits\n",
      "\n",
      "MAST OPD query around UTC: 59967.157610238\n",
      "                        MJD: 59967.157610238\n",
      "\n",
      "OPD immediately preceding the given datetime:\n",
      "\tURI:\t mast:JWST/product/R2023012202-NRCA3_FP1-1.fits\n",
      "\tDate (MJD):\t 59965.8570\n",
      "\tDelta time:\t -1.3006 days\n",
      "\n",
      "OPD immediately following the given datetime:\n",
      "\tURI:\t mast:JWST/product/R2023012303-NRCA3_FP1-1.fits\n",
      "\tDate (MJD):\t 59967.6511\n",
      "\tDelta time:\t 0.4935 days\n",
      "User requested choosing OPD time closest in time to 59967.157610238, which is R2023012303-NRCA3_FP1-1.fits, delta time 0.493 days\n",
      "Importing and format-converting OPD from /Users/ivo/Astro/PROJECTS/JWST/PSF/stpsf-data/MAST_JWST_WSS_OPDs/R2023012303-NRCA3_FP1-1.fits\n",
      "Backing out SI WFE and OTE field dependence at the WF sensing field point (NRCA3_FP1)\n"
     ]
    },
    {
     "name": "stderr",
     "output_type": "stream",
     "text": [
      "WARNING:py.warnings:/Users/ivo/Astro/PROJECTS/MOPHONGO/mophongo/mophongo/.venv/lib/python3.12/site-packages/astropy/io/fits/card.py:1036: VerifyWarning: Card is too long, comment will be truncated.\n",
      "  warnings.warn(\n",
      "\n"
     ]
    },
    {
     "name": "stdout",
     "output_type": "stream",
     "text": [
      "Wrote 25 PSFs ➜ ../data/PSF/UDS_NRCB4_F115W_DET_GRID25.fits\n",
      "OUTFILE: UDS_NRCA1_F115W_OS4_GRID25.fits\n",
      "\n",
      "MAST OPD query around UTC: 59967.157610238\n",
      "                        MJD: 59967.157610238\n",
      "\n",
      "OPD immediately preceding the given datetime:\n",
      "\tURI:\t mast:JWST/product/R2023012202-NRCA3_FP1-1.fits\n",
      "\tDate (MJD):\t 59965.8570\n",
      "\tDelta time:\t -1.3006 days\n",
      "\n",
      "OPD immediately following the given datetime:\n",
      "\tURI:\t mast:JWST/product/R2023012303-NRCA3_FP1-1.fits\n",
      "\tDate (MJD):\t 59967.6511\n",
      "\tDelta time:\t 0.4935 days\n",
      "User requested choosing OPD time closest in time to 59967.157610238, which is R2023012303-NRCA3_FP1-1.fits, delta time 0.493 days\n",
      "Importing and format-converting OPD from /Users/ivo/Astro/PROJECTS/JWST/PSF/stpsf-data/MAST_JWST_WSS_OPDs/R2023012303-NRCA3_FP1-1.fits\n",
      "Backing out SI WFE and OTE field dependence at the WF sensing field point (NRCA3_FP1)\n"
     ]
    },
    {
     "name": "stderr",
     "output_type": "stream",
     "text": [
      "WARNING:py.warnings:/Users/ivo/Astro/PROJECTS/MOPHONGO/mophongo/mophongo/.venv/lib/python3.12/site-packages/astropy/io/fits/card.py:1036: VerifyWarning: Card is too long, comment will be truncated.\n",
      "  warnings.warn(\n",
      "\n"
     ]
    },
    {
     "name": "stdout",
     "output_type": "stream",
     "text": [
      "Wrote 25 PSFs ➜ ../data/PSF/UDS_NRCA1_F115W_OS4_GRID25.fits\n",
      "OUTFILE: UDS_NRCA2_F115W_OS4_GRID25.fits\n",
      "\n",
      "MAST OPD query around UTC: 59967.157610238\n",
      "                        MJD: 59967.157610238\n",
      "\n",
      "OPD immediately preceding the given datetime:\n",
      "\tURI:\t mast:JWST/product/R2023012202-NRCA3_FP1-1.fits\n",
      "\tDate (MJD):\t 59965.8570\n",
      "\tDelta time:\t -1.3006 days\n",
      "\n",
      "OPD immediately following the given datetime:\n",
      "\tURI:\t mast:JWST/product/R2023012303-NRCA3_FP1-1.fits\n",
      "\tDate (MJD):\t 59967.6511\n",
      "\tDelta time:\t 0.4935 days\n",
      "User requested choosing OPD time closest in time to 59967.157610238, which is R2023012303-NRCA3_FP1-1.fits, delta time 0.493 days\n",
      "Importing and format-converting OPD from /Users/ivo/Astro/PROJECTS/JWST/PSF/stpsf-data/MAST_JWST_WSS_OPDs/R2023012303-NRCA3_FP1-1.fits\n",
      "Backing out SI WFE and OTE field dependence at the WF sensing field point (NRCA3_FP1)\n"
     ]
    },
    {
     "name": "stderr",
     "output_type": "stream",
     "text": [
      "WARNING:py.warnings:/Users/ivo/Astro/PROJECTS/MOPHONGO/mophongo/mophongo/.venv/lib/python3.12/site-packages/astropy/io/fits/card.py:1036: VerifyWarning: Card is too long, comment will be truncated.\n",
      "  warnings.warn(\n",
      "\n"
     ]
    },
    {
     "name": "stdout",
     "output_type": "stream",
     "text": [
      "Wrote 25 PSFs ➜ ../data/PSF/UDS_NRCA2_F115W_OS4_GRID25.fits\n",
      "OUTFILE: UDS_NRCA3_F115W_OS4_GRID25.fits\n",
      "\n",
      "MAST OPD query around UTC: 59967.157610238\n",
      "                        MJD: 59967.157610238\n",
      "\n",
      "OPD immediately preceding the given datetime:\n",
      "\tURI:\t mast:JWST/product/R2023012202-NRCA3_FP1-1.fits\n",
      "\tDate (MJD):\t 59965.8570\n",
      "\tDelta time:\t -1.3006 days\n",
      "\n",
      "OPD immediately following the given datetime:\n",
      "\tURI:\t mast:JWST/product/R2023012303-NRCA3_FP1-1.fits\n",
      "\tDate (MJD):\t 59967.6511\n",
      "\tDelta time:\t 0.4935 days\n",
      "User requested choosing OPD time closest in time to 59967.157610238, which is R2023012303-NRCA3_FP1-1.fits, delta time 0.493 days\n",
      "Importing and format-converting OPD from /Users/ivo/Astro/PROJECTS/JWST/PSF/stpsf-data/MAST_JWST_WSS_OPDs/R2023012303-NRCA3_FP1-1.fits\n",
      "Backing out SI WFE and OTE field dependence at the WF sensing field point (NRCA3_FP1)\n"
     ]
    },
    {
     "name": "stderr",
     "output_type": "stream",
     "text": [
      "WARNING:py.warnings:/Users/ivo/Astro/PROJECTS/MOPHONGO/mophongo/mophongo/.venv/lib/python3.12/site-packages/astropy/io/fits/card.py:1036: VerifyWarning: Card is too long, comment will be truncated.\n",
      "  warnings.warn(\n",
      "\n"
     ]
    },
    {
     "name": "stdout",
     "output_type": "stream",
     "text": [
      "Wrote 25 PSFs ➜ ../data/PSF/UDS_NRCA3_F115W_OS4_GRID25.fits\n",
      "OUTFILE: UDS_NRCA4_F115W_OS4_GRID25.fits\n",
      "\n",
      "MAST OPD query around UTC: 59967.157610238\n",
      "                        MJD: 59967.157610238\n",
      "\n",
      "OPD immediately preceding the given datetime:\n",
      "\tURI:\t mast:JWST/product/R2023012202-NRCA3_FP1-1.fits\n",
      "\tDate (MJD):\t 59965.8570\n",
      "\tDelta time:\t -1.3006 days\n",
      "\n",
      "OPD immediately following the given datetime:\n",
      "\tURI:\t mast:JWST/product/R2023012303-NRCA3_FP1-1.fits\n",
      "\tDate (MJD):\t 59967.6511\n",
      "\tDelta time:\t 0.4935 days\n",
      "User requested choosing OPD time closest in time to 59967.157610238, which is R2023012303-NRCA3_FP1-1.fits, delta time 0.493 days\n",
      "Importing and format-converting OPD from /Users/ivo/Astro/PROJECTS/JWST/PSF/stpsf-data/MAST_JWST_WSS_OPDs/R2023012303-NRCA3_FP1-1.fits\n",
      "Backing out SI WFE and OTE field dependence at the WF sensing field point (NRCA3_FP1)\n"
     ]
    },
    {
     "name": "stderr",
     "output_type": "stream",
     "text": [
      "WARNING:py.warnings:/Users/ivo/Astro/PROJECTS/MOPHONGO/mophongo/mophongo/.venv/lib/python3.12/site-packages/astropy/io/fits/card.py:1036: VerifyWarning: Card is too long, comment will be truncated.\n",
      "  warnings.warn(\n",
      "\n"
     ]
    },
    {
     "name": "stdout",
     "output_type": "stream",
     "text": [
      "Wrote 25 PSFs ➜ ../data/PSF/UDS_NRCA4_F115W_OS4_GRID25.fits\n",
      "OUTFILE: UDS_NRCB1_F115W_OS4_GRID25.fits\n",
      "\n",
      "MAST OPD query around UTC: 59967.157610238\n",
      "                        MJD: 59967.157610238\n",
      "\n",
      "OPD immediately preceding the given datetime:\n",
      "\tURI:\t mast:JWST/product/R2023012202-NRCA3_FP1-1.fits\n",
      "\tDate (MJD):\t 59965.8570\n",
      "\tDelta time:\t -1.3006 days\n",
      "\n",
      "OPD immediately following the given datetime:\n",
      "\tURI:\t mast:JWST/product/R2023012303-NRCA3_FP1-1.fits\n",
      "\tDate (MJD):\t 59967.6511\n",
      "\tDelta time:\t 0.4935 days\n",
      "User requested choosing OPD time closest in time to 59967.157610238, which is R2023012303-NRCA3_FP1-1.fits, delta time 0.493 days\n",
      "Importing and format-converting OPD from /Users/ivo/Astro/PROJECTS/JWST/PSF/stpsf-data/MAST_JWST_WSS_OPDs/R2023012303-NRCA3_FP1-1.fits\n",
      "Backing out SI WFE and OTE field dependence at the WF sensing field point (NRCA3_FP1)\n"
     ]
    },
    {
     "name": "stderr",
     "output_type": "stream",
     "text": [
      "WARNING:py.warnings:/Users/ivo/Astro/PROJECTS/MOPHONGO/mophongo/mophongo/.venv/lib/python3.12/site-packages/astropy/io/fits/card.py:1036: VerifyWarning: Card is too long, comment will be truncated.\n",
      "  warnings.warn(\n",
      "\n"
     ]
    },
    {
     "name": "stdout",
     "output_type": "stream",
     "text": [
      "Wrote 25 PSFs ➜ ../data/PSF/UDS_NRCB1_F115W_OS4_GRID25.fits\n",
      "OUTFILE: UDS_NRCB2_F115W_OS4_GRID25.fits\n",
      "\n",
      "MAST OPD query around UTC: 59967.157610238\n",
      "                        MJD: 59967.157610238\n",
      "\n",
      "OPD immediately preceding the given datetime:\n",
      "\tURI:\t mast:JWST/product/R2023012202-NRCA3_FP1-1.fits\n",
      "\tDate (MJD):\t 59965.8570\n",
      "\tDelta time:\t -1.3006 days\n",
      "\n",
      "OPD immediately following the given datetime:\n",
      "\tURI:\t mast:JWST/product/R2023012303-NRCA3_FP1-1.fits\n",
      "\tDate (MJD):\t 59967.6511\n",
      "\tDelta time:\t 0.4935 days\n",
      "User requested choosing OPD time closest in time to 59967.157610238, which is R2023012303-NRCA3_FP1-1.fits, delta time 0.493 days\n",
      "Importing and format-converting OPD from /Users/ivo/Astro/PROJECTS/JWST/PSF/stpsf-data/MAST_JWST_WSS_OPDs/R2023012303-NRCA3_FP1-1.fits\n",
      "Backing out SI WFE and OTE field dependence at the WF sensing field point (NRCA3_FP1)\n"
     ]
    },
    {
     "name": "stderr",
     "output_type": "stream",
     "text": [
      "WARNING:py.warnings:/Users/ivo/Astro/PROJECTS/MOPHONGO/mophongo/mophongo/.venv/lib/python3.12/site-packages/stpsf/opds.py:1759: UserWarning: For (V2,V3) = [-2.58746235 -9.2851593 ] arcmin, Field point -2.582628 arcmin, 1.4851592972196723 arcmin not within valid region for field dependence model of OTE WFE for NIRCam: -2.582628 arcmin-2.582628 arcmin, -1.539012 arcmin-1.539012 arcmin.  Clipping to closest available valid location, 0.0048343481327126625 arcmin away from the requested coordinates.\n",
      "  warnings.warn(warning_message)\n",
      "\n",
      "WARNING:py.warnings:/Users/ivo/Astro/PROJECTS/MOPHONGO/mophongo/mophongo/.venv/lib/python3.12/site-packages/astropy/io/fits/card.py:1036: VerifyWarning: Card is too long, comment will be truncated.\n",
      "  warnings.warn(\n",
      "\n"
     ]
    },
    {
     "name": "stdout",
     "output_type": "stream",
     "text": [
      "Wrote 25 PSFs ➜ ../data/PSF/UDS_NRCB2_F115W_OS4_GRID25.fits\n",
      "OUTFILE: UDS_NRCB3_F115W_OS4_GRID25.fits\n",
      "\n",
      "MAST OPD query around UTC: 59967.157610238\n",
      "                        MJD: 59967.157610238\n",
      "\n",
      "OPD immediately preceding the given datetime:\n",
      "\tURI:\t mast:JWST/product/R2023012202-NRCA3_FP1-1.fits\n",
      "\tDate (MJD):\t 59965.8570\n",
      "\tDelta time:\t -1.3006 days\n",
      "\n",
      "OPD immediately following the given datetime:\n",
      "\tURI:\t mast:JWST/product/R2023012303-NRCA3_FP1-1.fits\n",
      "\tDate (MJD):\t 59967.6511\n",
      "\tDelta time:\t 0.4935 days\n",
      "User requested choosing OPD time closest in time to 59967.157610238, which is R2023012303-NRCA3_FP1-1.fits, delta time 0.493 days\n",
      "Importing and format-converting OPD from /Users/ivo/Astro/PROJECTS/JWST/PSF/stpsf-data/MAST_JWST_WSS_OPDs/R2023012303-NRCA3_FP1-1.fits\n",
      "Backing out SI WFE and OTE field dependence at the WF sensing field point (NRCA3_FP1)\n"
     ]
    },
    {
     "name": "stderr",
     "output_type": "stream",
     "text": [
      "WARNING:py.warnings:/Users/ivo/Astro/PROJECTS/MOPHONGO/mophongo/mophongo/.venv/lib/python3.12/site-packages/astropy/io/fits/card.py:1036: VerifyWarning: Card is too long, comment will be truncated.\n",
      "  warnings.warn(\n",
      "\n"
     ]
    },
    {
     "name": "stdout",
     "output_type": "stream",
     "text": [
      "Wrote 25 PSFs ➜ ../data/PSF/UDS_NRCB3_F115W_OS4_GRID25.fits\n",
      "OUTFILE: UDS_NRCB4_F115W_OS4_GRID25.fits\n",
      "\n",
      "MAST OPD query around UTC: 59967.157610238\n",
      "                        MJD: 59967.157610238\n",
      "\n",
      "OPD immediately preceding the given datetime:\n",
      "\tURI:\t mast:JWST/product/R2023012202-NRCA3_FP1-1.fits\n",
      "\tDate (MJD):\t 59965.8570\n",
      "\tDelta time:\t -1.3006 days\n",
      "\n",
      "OPD immediately following the given datetime:\n",
      "\tURI:\t mast:JWST/product/R2023012303-NRCA3_FP1-1.fits\n",
      "\tDate (MJD):\t 59967.6511\n",
      "\tDelta time:\t 0.4935 days\n",
      "User requested choosing OPD time closest in time to 59967.157610238, which is R2023012303-NRCA3_FP1-1.fits, delta time 0.493 days\n",
      "Importing and format-converting OPD from /Users/ivo/Astro/PROJECTS/JWST/PSF/stpsf-data/MAST_JWST_WSS_OPDs/R2023012303-NRCA3_FP1-1.fits\n",
      "Backing out SI WFE and OTE field dependence at the WF sensing field point (NRCA3_FP1)\n"
     ]
    },
    {
     "name": "stderr",
     "output_type": "stream",
     "text": [
      "WARNING:py.warnings:/Users/ivo/Astro/PROJECTS/MOPHONGO/mophongo/mophongo/.venv/lib/python3.12/site-packages/astropy/io/fits/card.py:1036: VerifyWarning: Card is too long, comment will be truncated.\n",
      "  warnings.warn(\n",
      "\n"
     ]
    },
    {
     "name": "stdout",
     "output_type": "stream",
     "text": [
      "Wrote 25 PSFs ➜ ../data/PSF/UDS_NRCB4_F115W_OS4_GRID25.fits\n",
      "../data/uds-test-f444w_wcs.csv f444w 4.0 1\n",
      "OUTFILE: UDS_NRCA5_F444W_DET_GRID1.fits\n",
      "\n",
      "MAST OPD query around UTC: 59967.18805613\n",
      "                        MJD: 59967.18805613\n",
      "\n",
      "OPD immediately preceding the given datetime:\n",
      "\tURI:\t mast:JWST/product/R2023012202-NRCA3_FP1-1.fits\n",
      "\tDate (MJD):\t 59965.8570\n",
      "\tDelta time:\t -1.3310 days\n",
      "\n",
      "OPD immediately following the given datetime:\n",
      "\tURI:\t mast:JWST/product/R2023012303-NRCA3_FP1-1.fits\n",
      "\tDate (MJD):\t 59967.6511\n",
      "\tDelta time:\t 0.4630 days\n",
      "User requested choosing OPD time closest in time to 59967.18805613, which is R2023012303-NRCA3_FP1-1.fits, delta time 0.463 days\n",
      "Importing and format-converting OPD from /Users/ivo/Astro/PROJECTS/JWST/PSF/stpsf-data/MAST_JWST_WSS_OPDs/R2023012303-NRCA3_FP1-1.fits\n",
      "Backing out SI WFE and OTE field dependence at the WF sensing field point (NRCA3_FP1)\n",
      "Wrote 1 PSFs ➜ ../data/PSF/UDS_NRCA5_F444W_DET_GRID1.fits\n",
      "OUTFILE: UDS_NRCB5_F444W_DET_GRID1.fits\n",
      "\n",
      "MAST OPD query around UTC: 59967.18805613\n",
      "                        MJD: 59967.18805613\n",
      "\n",
      "OPD immediately preceding the given datetime:\n",
      "\tURI:\t mast:JWST/product/R2023012202-NRCA3_FP1-1.fits\n",
      "\tDate (MJD):\t 59965.8570\n",
      "\tDelta time:\t -1.3310 days\n",
      "\n",
      "OPD immediately following the given datetime:\n",
      "\tURI:\t mast:JWST/product/R2023012303-NRCA3_FP1-1.fits\n",
      "\tDate (MJD):\t 59967.6511\n",
      "\tDelta time:\t 0.4630 days\n",
      "User requested choosing OPD time closest in time to 59967.18805613, which is R2023012303-NRCA3_FP1-1.fits, delta time 0.463 days\n",
      "Importing and format-converting OPD from /Users/ivo/Astro/PROJECTS/JWST/PSF/stpsf-data/MAST_JWST_WSS_OPDs/R2023012303-NRCA3_FP1-1.fits\n",
      "Backing out SI WFE and OTE field dependence at the WF sensing field point (NRCA3_FP1)\n",
      "Wrote 1 PSFs ➜ ../data/PSF/UDS_NRCB5_F444W_DET_GRID1.fits\n",
      "OUTFILE: UDS_NRCA5_F444W_OS4_GRID1.fits\n",
      "\n",
      "MAST OPD query around UTC: 59967.18805613\n",
      "                        MJD: 59967.18805613\n",
      "\n",
      "OPD immediately preceding the given datetime:\n",
      "\tURI:\t mast:JWST/product/R2023012202-NRCA3_FP1-1.fits\n",
      "\tDate (MJD):\t 59965.8570\n",
      "\tDelta time:\t -1.3310 days\n",
      "\n",
      "OPD immediately following the given datetime:\n",
      "\tURI:\t mast:JWST/product/R2023012303-NRCA3_FP1-1.fits\n",
      "\tDate (MJD):\t 59967.6511\n",
      "\tDelta time:\t 0.4630 days\n",
      "User requested choosing OPD time closest in time to 59967.18805613, which is R2023012303-NRCA3_FP1-1.fits, delta time 0.463 days\n",
      "Importing and format-converting OPD from /Users/ivo/Astro/PROJECTS/JWST/PSF/stpsf-data/MAST_JWST_WSS_OPDs/R2023012303-NRCA3_FP1-1.fits\n",
      "Backing out SI WFE and OTE field dependence at the WF sensing field point (NRCA3_FP1)\n",
      "Wrote 1 PSFs ➜ ../data/PSF/UDS_NRCA5_F444W_OS4_GRID1.fits\n",
      "OUTFILE: UDS_NRCB5_F444W_OS4_GRID1.fits\n",
      "\n",
      "MAST OPD query around UTC: 59967.18805613\n",
      "                        MJD: 59967.18805613\n",
      "\n",
      "OPD immediately preceding the given datetime:\n",
      "\tURI:\t mast:JWST/product/R2023012202-NRCA3_FP1-1.fits\n",
      "\tDate (MJD):\t 59965.8570\n",
      "\tDelta time:\t -1.3310 days\n",
      "\n",
      "OPD immediately following the given datetime:\n",
      "\tURI:\t mast:JWST/product/R2023012303-NRCA3_FP1-1.fits\n",
      "\tDate (MJD):\t 59967.6511\n",
      "\tDelta time:\t 0.4630 days\n",
      "User requested choosing OPD time closest in time to 59967.18805613, which is R2023012303-NRCA3_FP1-1.fits, delta time 0.463 days\n",
      "Importing and format-converting OPD from /Users/ivo/Astro/PROJECTS/JWST/PSF/stpsf-data/MAST_JWST_WSS_OPDs/R2023012303-NRCA3_FP1-1.fits\n",
      "Backing out SI WFE and OTE field dependence at the WF sensing field point (NRCA3_FP1)\n",
      "Wrote 1 PSFs ➜ ../data/PSF/UDS_NRCB5_F444W_OS4_GRID1.fits\n",
      "../data/uds-test-f444w_wcs.csv f444w 4.0 25\n",
      "OUTFILE: UDS_NRCA5_F444W_DET_GRID25.fits\n",
      "\n",
      "MAST OPD query around UTC: 59967.18805613\n",
      "                        MJD: 59967.18805613\n",
      "\n",
      "OPD immediately preceding the given datetime:\n",
      "\tURI:\t mast:JWST/product/R2023012202-NRCA3_FP1-1.fits\n",
      "\tDate (MJD):\t 59965.8570\n",
      "\tDelta time:\t -1.3310 days\n",
      "\n",
      "OPD immediately following the given datetime:\n",
      "\tURI:\t mast:JWST/product/R2023012303-NRCA3_FP1-1.fits\n",
      "\tDate (MJD):\t 59967.6511\n",
      "\tDelta time:\t 0.4630 days\n",
      "User requested choosing OPD time closest in time to 59967.18805613, which is R2023012303-NRCA3_FP1-1.fits, delta time 0.463 days\n",
      "Importing and format-converting OPD from /Users/ivo/Astro/PROJECTS/JWST/PSF/stpsf-data/MAST_JWST_WSS_OPDs/R2023012303-NRCA3_FP1-1.fits\n",
      "Backing out SI WFE and OTE field dependence at the WF sensing field point (NRCA3_FP1)\n"
     ]
    }
   ],
   "source": [
    "from pathlib import Path\n",
    "from astropy.io import fits\n",
    "from scipy.ndimage import zoom\n",
    "import numpy as np\n",
    "\n",
    "psf_dir = Path('../data/PSF')\n",
    "oversample_factor = 4\n",
    "\n",
    "for f in psf_dir.glob('*DET*GRID*.fits'):\n",
    "    outfile = f.with_name(f.stem + f'_OS{oversample_factor}.fits')\n",
    "    with fits.open(f) as hdul:\n",
    "        data = hdul[0].data  # shape (Npsf, Y, X)\n",
    "        header = hdul[0].header.copy()\n",
    "    if data.ndim == 2:\n",
    "        data = data[np.newaxis, ...]\n",
    "    oversampled = zoom(data, (1, oversample_factor, oversample_factor), order=3)\n",
    "    fits.writeto(outfile, oversampled, header, overwrite=True)\n",
    "    print(f\"Oversampled PSF saved to {outfile} with shape {oversampled.shape}\")\n"
   ]
  },
  {
   "cell_type": "markdown",
   "id": "d31067ef",
   "metadata": {},
   "source": [
    "## Extending existing empirical ePSFs with wings from STPSF\n",
    "\n",
    "Specify the directory containing the JWST STDPSF `*.fits` files. The extended PSFs will be written EXTENDED postfix\n"
   ]
  },
  {
   "cell_type": "markdown",
   "id": "6e61fc45",
   "metadata": {},
   "source": [
    "## Extending existing empirical ePSFs with wings from STPSF\n",
    "\n",
    "Alternative approach. Use ePSF as core, extend with STPSF. The extended PSFs will be written EXTENDED postfix\n"
   ]
  },
  {
   "cell_type": "code",
   "execution_count": null,
   "id": "815998a7",
   "metadata": {},
   "outputs": [
    {
     "name": "stdout",
     "output_type": "stream",
     "text": [
      "Oversampled PSF saved to ../data/PSF/UDS_NRCA5_F444W_DET_GRID25_OS4.fits with shape (25, 260, 260)\n",
      "Oversampled PSF saved to ../data/PSF/UDS_NRCA3_F115W_DET_GRID1_OS4.fits with shape (1, 260, 260)\n",
      "Oversampled PSF saved to ../data/PSF/UDS_NRCB4_F115W_DET_GRID1_OS4.fits with shape (1, 260, 260)\n",
      "Oversampled PSF saved to ../data/PSF/UDS_NRCB1_F115W_DET_GRID1_OS4.fits with shape (1, 260, 260)\n",
      "Oversampled PSF saved to ../data/PSF/UDS_NRCB5_F444W_DET_GRID25_OS4.fits with shape (25, 260, 260)\n",
      "Oversampled PSF saved to ../data/PSF/UDS_NRCA1_F115W_DET_GRID25_OS4.fits with shape (25, 260, 260)\n",
      "Oversampled PSF saved to ../data/PSF/UDS_NRCB3_F115W_DET_GRID25_OS4.fits with shape (25, 260, 260)\n",
      "Oversampled PSF saved to ../data/PSF/UDS_NRCA3_F115W_DET_GRID25_OS4.fits with shape (25, 260, 260)\n",
      "Oversampled PSF saved to ../data/PSF/UDS_NRCB5_F444W_DET_GRID1_OS4.fits with shape (1, 260, 260)\n",
      "Oversampled PSF saved to ../data/PSF/UDS_MIRI_F770W_DET_GRID9_OS4.fits with shape (9, 292, 292)\n",
      "Oversampled PSF saved to ../data/PSF/UDS_NRCA2_F115W_DET_GRID1_OS4.fits with shape (1, 260, 260)\n",
      "Oversampled PSF saved to ../data/PSF/UDS_NRCB1_F115W_DET_GRID25_OS4.fits with shape (25, 260, 260)\n",
      "Oversampled PSF saved to ../data/PSF/UDS_NRCA1_F115W_DET_GRID1_OS4.fits with shape (1, 260, 260)\n",
      "Oversampled PSF saved to ../data/PSF/UDS_NRCA4_F115W_DET_GRID1_OS4.fits with shape (1, 260, 260)\n",
      "Oversampled PSF saved to ../data/PSF/UDS_NRCA4_F115W_DET_GRID25_OS4.fits with shape (25, 260, 260)\n",
      "Oversampled PSF saved to ../data/PSF/UDS_NRCB3_F115W_DET_GRID1_OS4.fits with shape (1, 260, 260)\n",
      "Oversampled PSF saved to ../data/PSF/UDS_NRCB4_F115W_DET_GRID25_OS4.fits with shape (25, 260, 260)\n",
      "Oversampled PSF saved to ../data/PSF/UDS_NRCB2_F115W_DET_GRID25_OS4.fits with shape (25, 260, 260)\n",
      "Oversampled PSF saved to ../data/PSF/UDS_NRCB2_F115W_DET_GRID1_OS4.fits with shape (1, 260, 260)\n",
      "Oversampled PSF saved to ../data/PSF/UDS_NRCA5_F444W_DET_GRID1_OS4.fits with shape (1, 260, 260)\n",
      "Oversampled PSF saved to ../data/PSF/UDS_NRCA2_F115W_DET_GRID25_OS4.fits with shape (25, 260, 260)\n",
      "Oversampled PSF saved to ../data/PSF/UDS_MIRI_F770W_DET_GRID1_OS4.fits with shape (1, 292, 292)\n"
     ]
    }
   ],
   "source": [
    "\n",
    "psf_dir = Path('../data/PSF')\n",
    "outdir = psf_dir \n",
    "for f in psf_dir.rglob('*.fits'):\n",
    "    outname = outdir / f.name.replace('.fits', '_EXTENDED.fits')  # extended psf\n",
    "    outname_stpsf = outdir / f.name.replace('.fits', '_WEBB.fits') # webb stpsf\n",
    "\n",
    "    if outname.exists() or 'EXTENDED' in f.name or 'WEBB' in f.name \\\n",
    "        or 'NRC' not in f.name or not '444' in f.name:\n",
    "        continue\n",
    "\n",
    "    epsf = STDPSFGrid(str(f))\n",
    "    epsf_ext, st_psf = jwst_psf.make_extended_grid(epsf, Rmax=2.0, Rtaper=0.2, bg_pct=10, return_stpsf=True, verbose=True)\n",
    "\n",
    "    os.makedirs(outdir, exist_ok=True)\n",
    "    if not outname.exists(): \n",
    "        jwst_psf.write_stdpsf(outname, epsf_ext, overwrite=True, verbose=True)\n",
    "    if not outname_stpsf.exists(): \n",
    "        jwst_psf.write_stdpsf(outname_stpsf, st_psf, overwrite=True, verbose=True)"
   ]
  }
 ],
 "metadata": {
  "kernelspec": {
   "display_name": ".venv",
   "language": "python",
   "name": "python3"
  },
  "language_info": {
   "codemirror_mode": {
    "name": "ipython",
    "version": 3
   },
   "file_extension": ".py",
   "mimetype": "text/x-python",
   "name": "python",
   "nbconvert_exporter": "python",
   "pygments_lexer": "ipython3",
   "version": "3.12.9"
  }
 },
 "nbformat": 4,
 "nbformat_minor": 5
}
