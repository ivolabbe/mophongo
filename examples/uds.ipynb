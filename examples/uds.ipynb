{
 "cells": [
  {
   "cell_type": "markdown",
   "metadata": {},
   "source": [
    "# Full Photometry Pipeline\n",
    "\n",
    "This tutorial demonstrates how to run the end--to--end photometry pipeline on\n",
    "real JWST data included with *Mophongo*. We build templates from the F444W\n",
    "mosaic and fit fluxes in the F770W image using spatially varying PSF\n",
    "matching kernels."
   ]
  },
  {
   "cell_type": "markdown",
   "metadata": {},
   "source": [
    "## Detect sources in F444W"
   ]
  },
  {
   "cell_type": "code",
   "execution_count": null,
   "id": "cedc4471",
   "metadata": {},
   "outputs": [],
   "source": [
    "from pathlib import Path\n",
    "import numpy as np\n",
    "from astropy.io import fits\n",
    "\n",
    "data_dir = Path('../data')\n",
    "field = 'uds-test'\n",
    "#field = 'uds-medium'\n",
    "#field = 'uds-large'\n",
    "sci_444 = data_dir / f'{field}-f444w_sci.fits'\n",
    "wht_444 = data_dir / f'{field}-f444w_wht.fits'\n"
   ]
  },
  {
   "cell_type": "markdown",
   "id": "25f65c3b",
   "metadata": {},
   "source": [
    "## Build PSF region map"
   ]
  },
  {
   "cell_type": "code",
   "execution_count": null,
   "id": "fd80fd35",
   "metadata": {},
   "outputs": [],
   "source": [
    "from mophongo.psf import DrizzlePSF\n",
    "from mophongo.psf_map import PSFRegionMap\n",
    "\n",
    "# initialize drizzler; also reads the associated _wcs.csv files (rate files wcs/header information)\n",
    "dpsf_444 = DrizzlePSF(driz_image=str(sci_444))\n",
    "dpsf_770 = DrizzlePSF(driz_image=str(sci_444).replace('444', '770'))\n",
    "\n",
    "# map unique detector overlaps; keep only footprints overlapping the target mosaic\n",
    "prm_444 = PSFRegionMap.from_footprints(dpsf_444.footprint, name='F444W').overlay_with(dpsf_444.driz_footprint)\n",
    "prm_770 = PSFRegionMap.from_footprints(dpsf_770.footprint, name='F770W').overlay_with(dpsf_444.driz_footprint)\n",
    "\n",
    "# compute overlay regions unique to both PSFs\n",
    "prm_kern = prm_444.overlay_with(prm_770)\n",
    "prm_444.plot()\n",
    "prm_770.plot()\n",
    "prm_kern.plot()\n",
    "prm_kern.regions"
   ]
  },
  {
   "cell_type": "markdown",
   "id": "2dac5be7",
   "metadata": {},
   "source": [
    "## Create PSF kernels"
   ]
  },
  {
   "cell_type": "code",
   "execution_count": null,
   "id": "2c3a6faf",
   "metadata": {},
   "outputs": [],
   "source": [
    "import mophongo.utils as utils\n",
    "\n",
    "psf_dir = data_dir / 'PSF'\n",
    "stpsf_444 = 'UDS_NRC.._F444W_OS4_GRID25'\n",
    "stpsf_770 = 'UDS_MIRI_F770W_OS4_GRID9'\n",
    "size = 101\n",
    "\n",
    "# centroid positions of the regions\n",
    "pos = [np.squeeze(p.xy) for p in prm_kern.regions.geometry.centroid]\n",
    "\n",
    "# load webb psfs\n",
    "dpsf_444.epsf_obj.load_jwst_stdpsf(local_dir=str(psf_dir), filter_pattern=stpsf_444)\n",
    "dpsf_770.epsf_obj.load_jwst_stdpsf(local_dir=str(psf_dir), filter_pattern=stpsf_770)\n",
    "\n",
    "# drizzle at centroid positions\n",
    "prm_444.psfs = dpsf_444.get_psf_radec(pos, size=size)\n",
    "prm_770.psfs = dpsf_770.get_psf_radec(pos, size=size)\n",
    "\n",
    "# store the PSFs + region maps\n",
    "prm_444.to_file(data_dir / f'{field}-f444w_psf.geojson')\n",
    "prm_770.to_file(data_dir / f'{field}-f770w_psf.geojson')\n",
    "\n",
    "# match kernels\n",
    "# @@@ need a better way to determine best fft window shape\n",
    "kernels = [utils.matching_kernel(psf_444, psf_770, recenter=True) for psf_444, psf_770 in zip(prm_444.psfs, prm_770.psfs)]\n",
    "\n",
    "prm_kern.psfs = np.asarray(kernels)\n",
    "prm_kern.to_file(data_dir / f'{field}-f444w_kernel_f770w.geojson')"
   ]
  },
  {
   "cell_type": "markdown",
   "id": "be4f4827",
   "metadata": {},
   "source": [
    "## Run photometry"
   ]
  },
  {
   "cell_type": "code",
   "execution_count": null,
   "id": "7727ab7c",
   "metadata": {},
   "outputs": [],
   "source": [
    "from pathlib import Path\n",
    "from astropy.io import fits\n",
    "from mophongo.psf_map import PSFRegionMap\n",
    "from mophongo.fit import FitConfig\n",
    "from mophongo.catalog import Catalog\n",
    "from mophongo import pipeline\n",
    "\n",
    "data_dir = Path('../data')\n",
    "field = 'uds-test'\n",
    "field = 'uds-medium'\n",
    "#field = 'uds-large'\n",
    "sci_444 = data_dir / f'{field}-f444w_sci.fits'\n",
    "wht_444 = data_dir / f'{field}-f444w_wht.fits'\n",
    "\n",
    "prm_kern = PSFRegionMap.from_geojson(str(data_dir / f'{field}-f444w_kernel_f770w.geojson'))\n",
    "prm_444 = PSFRegionMap.from_geojson(str(data_dir / f'{field}-f444w_psf.geojson'))\n",
    "prm_770 = PSFRegionMap.from_geojson(str(data_dir / f'{field}-f770w_psf.geojson'))\n",
    "\n",
    "# MIRI images\n",
    "img_770 = fits.getdata(data_dir / f'{field}-f770w_sci.fits')\n",
    "wht_770 = fits.getdata(data_dir / f'{field}-f770w_wht.fits')\n",
    "\n",
    "# read in LW selected catalog\n",
    "seg_LW = data_dir / f'{field}-LW_seg.fits'\n",
    "cat444 = Catalog.from_fits(sci_444, wht_444, segmap=seg_LW, estimate_ivar=True)\n",
    "cat770 = Catalog.from_fits(img_770, wht_770, segmap=seg_LW, estimate_ivar=True) \n",
    "\n",
    "residual = [None, None, None, None]\n"
   ]
  },
  {
   "cell_type": "code",
   "execution_count": null,
   "id": "67807bcf",
   "metadata": {},
   "outputs": [],
   "source": [
    "# first fit, no shifts: first image is template, 2nd and on the fitting images\n",
    "table, res, fit = pipeline.run([cat444.sci, cat770.sci], cat444.segmap.data,\n",
    "                                weights=[cat444.ivar, cat770.ivar],\n",
    "                                catalog=cat444.table,\n",
    "                                psfs=[prm_444, prm_770],\n",
    "                                kernels=[None, prm_kern],\n",
    "                                wcs=[cat444.wcs]* 2,\n",
    "                                config=FitConfig(fit_astrometry_niter=0))\n",
    "residual[0] = res[0]\n",
    "fits.writeto('residual_noshift.fits', data=residual[0], overwrite=True)\n",
    "fits.writeto('model_noshift.fits', data=cat770.sci-residual[0], overwrite=True)"
   ]
  },
  {
   "cell_type": "markdown",
   "id": "2a6972e2",
   "metadata": {},
   "source": [
    "### Separate flux and astrometric fit\n",
    "\n",
    "First fit fluxes, then astrometric shift field, iterate."
   ]
  },
  {
   "cell_type": "code",
   "execution_count": null,
   "id": "f8d93675",
   "metadata": {},
   "outputs": [],
   "source": [
    "# test astrometry fit vs number of iterations for separate astro + flux fits\n",
    "config = FitConfig(fit_astrometry_niter=2,\n",
    "                    fit_astrometry_joint=False,\n",
    "                    astrom_basis_order=2,\n",
    "                    reg_astrom=1e-4,\n",
    "                    snr_thresh_astrom=10.0,\n",
    "                    multi_tmpl_chi2_thresh=3.0)\n",
    "table1, res1, fit1 = pipeline.run([cat444.sci, cat770.sci],\n",
    "                                cat444.segmap.data,\n",
    "                                weights=[cat444.ivar, cat770.ivar],\n",
    "                                catalog=cat444.table,  \n",
    "                                psfs=[prm_444, prm_770],\n",
    "                                kernels=[None, prm_kern],\n",
    "                                wcs=[cat444.wcs] * 2,\n",
    "                                config=config)\n",
    "residual[1] = res1[0]\n",
    "fits.writeto('residual_separate.fits', data=residual[1], overwrite=True)\n",
    "fits.writeto('model_separate.fits', data=cat770.sci-residual[1], overwrite=True)"
   ]
  },
  {
   "cell_type": "markdown",
   "id": "bf07fe09",
   "metadata": {},
   "source": [
    "###  Joint photometric and astrometric fit\n",
    "\n",
    "Append Cheby polynomial coefficients to sparse matrix and solve jointly."
   ]
  },
  {
   "cell_type": "code",
   "execution_count": null,
   "id": "953cfbbc",
   "metadata": {},
   "outputs": [],
   "source": [
    "# test astrometry fit vs number of iterations for joint astro + flux fit\n",
    "config = FitConfig(fit_astrometry_niter=3,\n",
    "                    fit_astrometry_joint=True,\n",
    "                    astrom_basis_order=2,\n",
    "                    reg_astrom=1e-4,\n",
    "                    snr_thresh_astrom=10.0)\n",
    "table2, res2, fit2 = pipeline.run([cat444.sci, cat770.sci],\n",
    "                                cat444.segmap.data,\n",
    "                                weights=[cat444.ivar, cat770.ivar],\n",
    "                                catalog=cat444.table,\n",
    "                                psfs=[prm_444, prm_770],\n",
    "                                kernels=[None, prm_kern],\n",
    "                                wcs=[cat444.wcs] * 2,\n",
    "                                config=config)\n",
    "residual[2] = res2[0]\n",
    "fits.writeto('residual_joint.fits', data=residual[2], overwrite=True)\n",
    "fits.writeto('model_joint.fits', data=cat770.sci-residual[2], overwrite=True)"
   ]
  },
  {
   "cell_type": "code",
   "execution_count": null,
   "id": "bd5c4652",
   "metadata": {},
   "outputs": [],
   "source": [
    "from matplotlib import pyplot as plt\n",
    "fig, ax = plt.subplots(2, 2, figsize=(15, 12))\n",
    "ax = ax.flatten()\n",
    "titles= ['No Shift', 'Separate Astro + Flux', 'Joint Astro + Flux']\n",
    "ax[0].imshow(cat770.sci, origin='lower', cmap='gray', vmin=-3, vmax=3)\n",
    "for i in range(3):\n",
    "    ax[i+1].imshow(residual[i], origin='lower', cmap='gray', vmin=-1, vmax=1)\n",
    "    ax[i+1].set_title(titles[i])\n",
    "plt.tight_layout()"
   ]
  },
  {
   "cell_type": "code",
   "execution_count": null,
   "id": "e0924173",
   "metadata": {},
   "outputs": [],
   "source": [
    "from matplotlib import pyplot as plt\n",
    "img = [cat444.sci*10, cat770.sci, cat770.sci - residual[2], residual[2]] \n",
    "titles = ['F444W', 'F770W', 'model F770W', 'residual']\n",
    "fig, ax = plt.subplots(2, 2, figsize=(15, 12))\n",
    "ax = ax.flatten()\n",
    "for i in range(4):\n",
    "    ax[i].imshow(img[i], origin='lower', cmap='gray', vmin=-1, vmax=1)\n",
    "    ax[i].set_title(f'{titles[i]}')\n",
    "plt.tight_layout() "
   ]
  },
  {
   "cell_type": "code",
   "execution_count": null,
   "id": "eea7caed",
   "metadata": {},
   "outputs": [],
   "source": []
  }
 ],
 "metadata": {
  "kernelspec": {
   "display_name": ".venv",
   "language": "python",
   "name": "python3"
  },
  "language_info": {
   "codemirror_mode": {
    "name": "ipython",
    "version": 3
   },
   "file_extension": ".py",
   "mimetype": "text/x-python",
   "name": "python",
   "nbconvert_exporter": "python",
   "pygments_lexer": "ipython3",
   "version": "3.12.9"
  }
 },
 "nbformat": 4,
 "nbformat_minor": 5
}
